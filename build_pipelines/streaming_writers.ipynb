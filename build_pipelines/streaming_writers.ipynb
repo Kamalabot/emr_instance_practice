{
 "cells": [
  {
   "cell_type": "markdown",
   "id": "b2ba2318",
   "metadata": {},
   "source": [
    "We are going to work on interesting topic of streaming data. The idea of this notebook is as follows\n",
    "\n",
    "- Take a streaming stock market input that is provided by the netcat server. (Python program is written for the same)\n",
    "\n",
    "- Data is caught by the spark stream reader, and schema is detected\n",
    "\n",
    "- The data is then written to the local database first\n",
    "\n",
    "- Writing the data to file using the for each and for each batch\n",
    "\n",
    "- Working on joining multiple streaming information together. \n",
    "(Need think about the dataset that is sent in parallel from another netcat server)\n",
    "\n",
    "\n",
    "* Compelete the python share_pusher.py and weather_pusher.py scripts\n",
    "\n",
    "The server will have \n",
    "\n",
    "tail_logs.sh | nc -lvnp 9999\n",
    "\n",
    "The reciever will have \n",
    "\n",
    "nc -vn 127.0.0.1 9999"
   ]
  },
  {
   "cell_type": "code",
   "execution_count": null,
   "id": "b1c1dff8",
   "metadata": {},
   "outputs": [],
   "source": []
  },
  {
   "cell_type": "code",
   "execution_count": null,
   "id": "32adb591",
   "metadata": {},
   "outputs": [],
   "source": []
  }
 ],
 "metadata": {
  "kernelspec": {
   "display_name": "Python 3 (ipykernel)",
   "language": "python",
   "name": "python3"
  },
  "language_info": {
   "codemirror_mode": {
    "name": "ipython",
    "version": 3
   },
   "file_extension": ".py",
   "mimetype": "text/x-python",
   "name": "python",
   "nbconvert_exporter": "python",
   "pygments_lexer": "ipython3",
   "version": "3.10.8"
  }
 },
 "nbformat": 4,
 "nbformat_minor": 5
}
