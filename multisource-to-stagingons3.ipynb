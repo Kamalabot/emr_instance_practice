{
 "cells": [
  {
   "cell_type": "code",
   "execution_count": 1,
   "id": "8c227886",
   "metadata": {
    "collapsed": true,
    "execution": {
     "iopub.execute_input": "2023-01-28T03:31:27.999809Z",
     "iopub.status.busy": "2023-01-28T03:31:27.999165Z",
     "iopub.status.idle": "2023-01-28T03:31:47.825570Z",
     "shell.execute_reply": "2023-01-28T03:31:47.824229Z"
    },
    "jupyter": {
     "outputs_hidden": true
    },
    "papermill": {
     "duration": 19.836292,
     "end_time": "2023-01-28T03:31:47.828362",
     "exception": false,
     "start_time": "2023-01-28T03:31:27.992070",
     "status": "completed"
    },
    "tags": []
   },
   "outputs": [
    {
     "name": "stdout",
     "output_type": "stream",
     "text": [
      "Collecting awswrangler\r\n",
      "  Downloading awswrangler-2.19.0-py3-none-any.whl (267 kB)\r\n",
      "\u001b[2K     \u001b[90m━━━━━━━━━━━━━━━━━━━━━━━━━━━━━━━━━━━━━\u001b[0m \u001b[32m267.1/267.1 kB\u001b[0m \u001b[31m489.4 kB/s\u001b[0m eta \u001b[36m0:00:00\u001b[0m\r\n",
      "\u001b[?25hCollecting requests-aws4auth<2.0.0,>=1.1.1\r\n",
      "  Downloading requests_aws4auth-1.2.1-py2.py3-none-any.whl (24 kB)\r\n",
      "Collecting redshift-connector<2.1.0,>=2.0.889\r\n",
      "  Downloading redshift_connector-2.0.910-py3-none-any.whl (112 kB)\r\n",
      "\u001b[2K     \u001b[90m━━━━━━━━━━━━━━━━━━━━━━━━━━━━━━━━━━━━━━━\u001b[0m \u001b[32m112.1/112.1 kB\u001b[0m \u001b[31m2.8 MB/s\u001b[0m eta \u001b[36m0:00:00\u001b[0m\r\n",
      "\u001b[?25hRequirement already satisfied: botocore<2.0.0,>=1.27.11 in /opt/conda/lib/python3.7/site-packages (from awswrangler) (1.29.54)\r\n",
      "Requirement already satisfied: openpyxl<3.1.0,>=3.0.0 in /opt/conda/lib/python3.7/site-packages (from awswrangler) (3.0.10)\r\n",
      "Requirement already satisfied: progressbar2<5.0.0,>=4.0.0 in /opt/conda/lib/python3.7/site-packages (from awswrangler) (4.2.0)\r\n",
      "Requirement already satisfied: pyarrow<10.1.0,>=2.0.0 in /opt/conda/lib/python3.7/site-packages (from awswrangler) (8.0.0)\r\n",
      "Collecting jsonpath-ng<2.0.0,>=1.5.3\r\n",
      "  Downloading jsonpath_ng-1.5.3-py3-none-any.whl (29 kB)\r\n",
      "Collecting opensearch-py<3,>=1\r\n",
      "  Downloading opensearch_py-2.1.1-py2.py3-none-any.whl (220 kB)\r\n",
      "\u001b[2K     \u001b[90m━━━━━━━━━━━━━━━━━━━━━━━━━━━━━━━━━━━━━━━\u001b[0m \u001b[32m220.8/220.8 kB\u001b[0m \u001b[31m3.1 MB/s\u001b[0m eta \u001b[36m0:00:00\u001b[0m\r\n",
      "\u001b[?25hCollecting backoff<3.0.0,>=1.11.1\r\n",
      "  Downloading backoff-2.2.1-py3-none-any.whl (15 kB)\r\n",
      "Collecting pymysql<2.0.0,>=1.0.0\r\n",
      "  Downloading PyMySQL-1.0.2-py3-none-any.whl (43 kB)\r\n",
      "\u001b[2K     \u001b[90m━━━━━━━━━━━━━━━━━━━━━━━━━━━━━━━━━━━━━━━━\u001b[0m \u001b[32m43.8/43.8 kB\u001b[0m \u001b[31m2.7 MB/s\u001b[0m eta \u001b[36m0:00:00\u001b[0m\r\n",
      "\u001b[?25hRequirement already satisfied: numpy<=1.23.4,>=1.21.0 in /opt/conda/lib/python3.7/site-packages (from awswrangler) (1.21.6)\r\n",
      "Requirement already satisfied: boto3<2.0.0,>=1.24.11 in /opt/conda/lib/python3.7/site-packages (from awswrangler) (1.26.54)\r\n",
      "Collecting gremlinpython<4.0.0,>=3.5.2\r\n",
      "  Downloading gremlinpython-3.6.2-py2.py3-none-any.whl (74 kB)\r\n",
      "\u001b[2K     \u001b[90m━━━━━━━━━━━━━━━━━━━━━━━━━━━━━━━━━━━━━━━━\u001b[0m \u001b[32m74.4/74.4 kB\u001b[0m \u001b[31m3.3 MB/s\u001b[0m eta \u001b[36m0:00:00\u001b[0m\r\n",
      "\u001b[?25hRequirement already satisfied: pandas!=1.5.0,<2.0.0,<=1.5.1,>=1.2.0 in /opt/conda/lib/python3.7/site-packages (from awswrangler) (1.3.5)\r\n",
      "Collecting pg8000<2.0.0,>=1.20.0\r\n",
      "  Downloading pg8000-1.29.4-py3-none-any.whl (51 kB)\r\n",
      "\u001b[2K     \u001b[90m━━━━━━━━━━━━━━━━━━━━━━━━━━━━━━━━━━━━━━━━\u001b[0m \u001b[32m51.4/51.4 kB\u001b[0m \u001b[31m3.1 MB/s\u001b[0m eta \u001b[36m0:00:00\u001b[0m\r\n",
      "\u001b[?25hRequirement already satisfied: s3transfer<0.7.0,>=0.6.0 in /opt/conda/lib/python3.7/site-packages (from boto3<2.0.0,>=1.24.11->awswrangler) (0.6.0)\r\n",
      "Requirement already satisfied: jmespath<2.0.0,>=0.7.1 in /opt/conda/lib/python3.7/site-packages (from boto3<2.0.0,>=1.24.11->awswrangler) (1.0.1)\r\n",
      "Requirement already satisfied: urllib3<1.27,>=1.25.4 in /opt/conda/lib/python3.7/site-packages (from botocore<2.0.0,>=1.27.11->awswrangler) (1.26.14)\r\n",
      "Requirement already satisfied: python-dateutil<3.0.0,>=2.1 in /opt/conda/lib/python3.7/site-packages (from botocore<2.0.0,>=1.27.11->awswrangler) (2.8.2)\r\n",
      "Collecting isodate<1.0.0,>=0.6.0\r\n",
      "  Downloading isodate-0.6.1-py2.py3-none-any.whl (41 kB)\r\n",
      "\u001b[2K     \u001b[90m━━━━━━━━━━━━━━━━━━━━━━━━━━━━━━━━━━━━━━━━\u001b[0m \u001b[32m41.7/41.7 kB\u001b[0m \u001b[31m2.7 MB/s\u001b[0m eta \u001b[36m0:00:00\u001b[0m\r\n",
      "\u001b[?25hCollecting aenum<4.0.0,>=1.4.5\r\n",
      "  Downloading aenum-3.1.11-py3-none-any.whl (131 kB)\r\n",
      "\u001b[2K     \u001b[90m━━━━━━━━━━━━━━━━━━━━━━━━━━━━━━━━━━━━━━━\u001b[0m \u001b[32m131.5/131.5 kB\u001b[0m \u001b[31m3.9 MB/s\u001b[0m eta \u001b[36m0:00:00\u001b[0m\r\n",
      "\u001b[?25hRequirement already satisfied: aiohttp<=3.8.1,>=3.8.0 in /opt/conda/lib/python3.7/site-packages (from gremlinpython<4.0.0,>=3.5.2->awswrangler) (3.8.1)\r\n",
      "Requirement already satisfied: nest-asyncio in /opt/conda/lib/python3.7/site-packages (from gremlinpython<4.0.0,>=3.5.2->awswrangler) (1.5.5)\r\n",
      "Collecting ply\r\n",
      "  Downloading ply-3.11-py2.py3-none-any.whl (49 kB)\r\n",
      "\u001b[2K     \u001b[90m━━━━━━━━━━━━━━━━━━━━━━━━━━━━━━━━━━━━━━━━\u001b[0m \u001b[32m49.6/49.6 kB\u001b[0m \u001b[31m3.0 MB/s\u001b[0m eta \u001b[36m0:00:00\u001b[0m\r\n",
      "\u001b[?25hRequirement already satisfied: six in /opt/conda/lib/python3.7/site-packages (from jsonpath-ng<2.0.0,>=1.5.3->awswrangler) (1.15.0)\r\n",
      "Requirement already satisfied: decorator in /opt/conda/lib/python3.7/site-packages (from jsonpath-ng<2.0.0,>=1.5.3->awswrangler) (5.1.1)\r\n",
      "Requirement already satisfied: et-xmlfile in /opt/conda/lib/python3.7/site-packages (from openpyxl<3.1.0,>=3.0.0->awswrangler) (1.1.0)\r\n",
      "Requirement already satisfied: certifi in /opt/conda/lib/python3.7/site-packages (from opensearch-py<3,>=1->awswrangler) (2022.12.7)\r\n",
      "Requirement already satisfied: requests<3.0.0,>=2.4.0 in /opt/conda/lib/python3.7/site-packages (from opensearch-py<3,>=1->awswrangler) (2.28.1)\r\n",
      "Requirement already satisfied: pytz>=2017.3 in /opt/conda/lib/python3.7/site-packages (from pandas!=1.5.0,<2.0.0,<=1.5.1,>=1.2.0->awswrangler) (2022.1)\r\n",
      "Collecting scramp>=1.4.3\r\n",
      "  Downloading scramp-1.4.4-py3-none-any.whl (13 kB)\r\n",
      "Requirement already satisfied: importlib-metadata>=1.0 in /opt/conda/lib/python3.7/site-packages (from pg8000<2.0.0,>=1.20.0->awswrangler) (6.0.0)\r\n",
      "Requirement already satisfied: python-utils>=3.0.0 in /opt/conda/lib/python3.7/site-packages (from progressbar2<5.0.0,>=4.0.0->awswrangler) (3.4.5)\r\n",
      "Requirement already satisfied: beautifulsoup4<5.0.0,>=4.7.0 in /opt/conda/lib/python3.7/site-packages (from redshift-connector<2.1.0,>=2.0.889->awswrangler) (4.11.1)\r\n",
      "Requirement already satisfied: lxml>=4.6.5 in /opt/conda/lib/python3.7/site-packages (from redshift-connector<2.1.0,>=2.0.889->awswrangler) (4.9.2)\r\n",
      "Requirement already satisfied: setuptools in /opt/conda/lib/python3.7/site-packages (from redshift-connector<2.1.0,>=2.0.889->awswrangler) (59.8.0)\r\n",
      "Requirement already satisfied: packaging in /opt/conda/lib/python3.7/site-packages (from redshift-connector<2.1.0,>=2.0.889->awswrangler) (23.0)\r\n",
      "Requirement already satisfied: typing-extensions>=3.7.4 in /opt/conda/lib/python3.7/site-packages (from aiohttp<=3.8.1,>=3.8.0->gremlinpython<4.0.0,>=3.5.2->awswrangler) (4.1.1)\r\n",
      "Requirement already satisfied: multidict<7.0,>=4.5 in /opt/conda/lib/python3.7/site-packages (from aiohttp<=3.8.1,>=3.8.0->gremlinpython<4.0.0,>=3.5.2->awswrangler) (6.0.2)\r\n",
      "Requirement already satisfied: yarl<2.0,>=1.0 in /opt/conda/lib/python3.7/site-packages (from aiohttp<=3.8.1,>=3.8.0->gremlinpython<4.0.0,>=3.5.2->awswrangler) (1.7.2)\r\n",
      "Requirement already satisfied: charset-normalizer<3.0,>=2.0 in /opt/conda/lib/python3.7/site-packages (from aiohttp<=3.8.1,>=3.8.0->gremlinpython<4.0.0,>=3.5.2->awswrangler) (2.1.0)\r\n",
      "Requirement already satisfied: frozenlist>=1.1.1 in /opt/conda/lib/python3.7/site-packages (from aiohttp<=3.8.1,>=3.8.0->gremlinpython<4.0.0,>=3.5.2->awswrangler) (1.3.0)\r\n",
      "Requirement already satisfied: asynctest==0.13.0 in /opt/conda/lib/python3.7/site-packages (from aiohttp<=3.8.1,>=3.8.0->gremlinpython<4.0.0,>=3.5.2->awswrangler) (0.13.0)\r\n",
      "Requirement already satisfied: aiosignal>=1.1.2 in /opt/conda/lib/python3.7/site-packages (from aiohttp<=3.8.1,>=3.8.0->gremlinpython<4.0.0,>=3.5.2->awswrangler) (1.2.0)\r\n",
      "Requirement already satisfied: async-timeout<5.0,>=4.0.0a3 in /opt/conda/lib/python3.7/site-packages (from aiohttp<=3.8.1,>=3.8.0->gremlinpython<4.0.0,>=3.5.2->awswrangler) (4.0.2)\r\n",
      "Requirement already satisfied: attrs>=17.3.0 in /opt/conda/lib/python3.7/site-packages (from aiohttp<=3.8.1,>=3.8.0->gremlinpython<4.0.0,>=3.5.2->awswrangler) (21.4.0)\r\n",
      "Requirement already satisfied: soupsieve>1.2 in /opt/conda/lib/python3.7/site-packages (from beautifulsoup4<5.0.0,>=4.7.0->redshift-connector<2.1.0,>=2.0.889->awswrangler) (2.3.1)\r\n",
      "Requirement already satisfied: zipp>=0.5 in /opt/conda/lib/python3.7/site-packages (from importlib-metadata>=1.0->pg8000<2.0.0,>=1.20.0->awswrangler) (3.8.0)\r\n",
      "Requirement already satisfied: idna<4,>=2.5 in /opt/conda/lib/python3.7/site-packages (from requests<3.0.0,>=2.4.0->opensearch-py<3,>=1->awswrangler) (3.3)\r\n",
      "Requirement already satisfied: asn1crypto>=1.5.1 in /opt/conda/lib/python3.7/site-packages (from scramp>=1.4.3->pg8000<2.0.0,>=1.20.0->awswrangler) (1.5.1)\r\n",
      "Installing collected packages: ply, aenum, pymysql, jsonpath-ng, isodate, backoff, scramp, requests-aws4auth, opensearch-py, pg8000, gremlinpython, redshift-connector, awswrangler\r\n",
      "Successfully installed aenum-3.1.11 awswrangler-2.19.0 backoff-2.2.1 gremlinpython-3.6.2 isodate-0.6.1 jsonpath-ng-1.5.3 opensearch-py-2.1.1 pg8000-1.29.4 ply-3.11 pymysql-1.0.2 redshift-connector-2.0.910 requests-aws4auth-1.2.1 scramp-1.4.4\r\n",
      "\u001b[33mWARNING: Running pip as the 'root' user can result in broken permissions and conflicting behaviour with the system package manager. It is recommended to use a virtual environment instead: https://pip.pypa.io/warnings/venv\u001b[0m\u001b[33m\r\n",
      "\u001b[0m"
     ]
    }
   ],
   "source": [
    "!pip install awswrangler"
   ]
  },
  {
   "cell_type": "code",
   "execution_count": 2,
   "id": "17b67cb6",
   "metadata": {
    "_cell_guid": "b1076dfc-b9ad-4769-8c92-a6c4dae69d19",
    "_uuid": "8f2839f25d086af736a60e9eeb907d3b93b6e0e5",
    "execution": {
     "iopub.execute_input": "2023-01-28T03:31:47.844639Z",
     "iopub.status.busy": "2023-01-28T03:31:47.844250Z",
     "iopub.status.idle": "2023-01-28T03:31:48.698018Z",
     "shell.execute_reply": "2023-01-28T03:31:48.696328Z"
    },
    "papermill": {
     "duration": 0.865452,
     "end_time": "2023-01-28T03:31:48.700959",
     "exception": false,
     "start_time": "2023-01-28T03:31:47.835507",
     "status": "completed"
    },
    "tags": []
   },
   "outputs": [],
   "source": [
    "import boto3\n",
    "import awswrangler as wr\n",
    "import warnings\n",
    "warnings.filterwarnings(\"ignore\")"
   ]
  },
  {
   "cell_type": "code",
   "execution_count": 3,
   "id": "5560803d",
   "metadata": {
    "execution": {
     "iopub.execute_input": "2023-01-28T03:31:48.716922Z",
     "iopub.status.busy": "2023-01-28T03:31:48.715783Z",
     "iopub.status.idle": "2023-01-28T03:31:48.854936Z",
     "shell.execute_reply": "2023-01-28T03:31:48.853506Z"
    },
    "papermill": {
     "duration": 0.149961,
     "end_time": "2023-01-28T03:31:48.857691",
     "exception": false,
     "start_time": "2023-01-28T03:31:48.707730",
     "status": "completed"
    },
    "tags": []
   },
   "outputs": [],
   "source": [
    "#load the AWS credentials and keep it ready\n",
    "\n",
    "import configparser\n",
    "\n",
    "reader = configparser.ConfigParser()\n",
    "reader.read_file(open('/kaggle/input/private-set/calter.config'))\n",
    "\n",
    "\n",
    "aws_reg = reader[\"AWS\"][\"REGION\"]\n",
    "aws_key = reader[\"AWS\"][\"KEY\"]\n",
    "aws_sec = reader[\"AWS\"][\"SECRET\"]\n",
    "\n",
    "my_session = boto3.Session(aws_access_key_id=aws_key,aws_secret_access_key=aws_sec,\n",
    "                          region_name=aws_reg)\n",
    "\n",
    "s3_client = boto3.client('s3',region_name=aws_reg,aws_access_key_id=aws_key,\n",
    "                        aws_secret_access_key=aws_sec)"
   ]
  },
  {
   "cell_type": "markdown",
   "id": "9cf3abb2",
   "metadata": {
    "papermill": {
     "duration": 0.006421,
     "end_time": "2023-01-28T03:31:48.870943",
     "exception": false,
     "start_time": "2023-01-28T03:31:48.864522",
     "status": "completed"
    },
    "tags": []
   },
   "source": [
    "There are many sources from which the data can come to Data Engineer or the Analyst. How to pull the data from these sources reliably? \n",
    "\n",
    "1 - List the sources and the designate a staging area. \n",
    "\n",
    "2 - Think of the source Type and the connection method.\n",
    "\n",
    "3 - Get the necessary credentials and register them for use.\n",
    "\n",
    "4 - Code the functions that pull the data into the staging.\n",
    "\n",
    "5 - Rinse and Repeat"
   ]
  },
  {
   "cell_type": "markdown",
   "id": "7da37ac4",
   "metadata": {
    "papermill": {
     "duration": 0.006322,
     "end_time": "2023-01-28T03:31:48.883964",
     "exception": false,
     "start_time": "2023-01-28T03:31:48.877642",
     "status": "completed"
    },
    "tags": []
   },
   "source": [
    "### Lets Designate a Staging Area:\n",
    "\n",
    "Stage @ AWS ==> s3://pipe-line-source\n",
    "\n",
    "Place the string path in the variable"
   ]
  },
  {
   "cell_type": "code",
   "execution_count": 4,
   "id": "4956e1eb",
   "metadata": {
    "execution": {
     "iopub.execute_input": "2023-01-28T03:31:48.899154Z",
     "iopub.status.busy": "2023-01-28T03:31:48.898740Z",
     "iopub.status.idle": "2023-01-28T03:31:48.904240Z",
     "shell.execute_reply": "2023-01-28T03:31:48.902798Z"
    },
    "papermill": {
     "duration": 0.016098,
     "end_time": "2023-01-28T03:31:48.906600",
     "exception": false,
     "start_time": "2023-01-28T03:31:48.890502",
     "status": "completed"
    },
    "tags": []
   },
   "outputs": [],
   "source": [
    "stage_path = \"pipe-line-source\""
   ]
  },
  {
   "cell_type": "code",
   "execution_count": 5,
   "id": "9600cf74",
   "metadata": {
    "execution": {
     "iopub.execute_input": "2023-01-28T03:31:48.922706Z",
     "iopub.status.busy": "2023-01-28T03:31:48.921438Z",
     "iopub.status.idle": "2023-01-28T03:31:49.895845Z",
     "shell.execute_reply": "2023-01-28T03:31:49.894451Z"
    },
    "papermill": {
     "duration": 0.985273,
     "end_time": "2023-01-28T03:31:49.898680",
     "exception": false,
     "start_time": "2023-01-28T03:31:48.913407",
     "status": "completed"
    },
    "tags": []
   },
   "outputs": [
    {
     "name": "stdout",
     "output_type": "stream",
     "text": [
      "The bucket must be empty.\n"
     ]
    }
   ],
   "source": [
    "# There are two ways to list the contents of the bucket\n",
    "\n",
    "#Boto way: Note the bucket name is not having the prefix s3://\n",
    "try:\n",
    "    s3_client.list_objects_v2(Bucket=stage_path)[\"Contents\"]\n",
    "except Exception as e:\n",
    "    print(\"The bucket must be empty.\")"
   ]
  },
  {
   "cell_type": "code",
   "execution_count": 6,
   "id": "36ad69ce",
   "metadata": {
    "execution": {
     "iopub.execute_input": "2023-01-28T03:31:49.914511Z",
     "iopub.status.busy": "2023-01-28T03:31:49.914131Z",
     "iopub.status.idle": "2023-01-28T03:31:50.986914Z",
     "shell.execute_reply": "2023-01-28T03:31:50.985405Z"
    },
    "papermill": {
     "duration": 1.084098,
     "end_time": "2023-01-28T03:31:50.989787",
     "exception": false,
     "start_time": "2023-01-28T03:31:49.905689",
     "status": "completed"
    },
    "tags": []
   },
   "outputs": [
    {
     "data": {
      "text/plain": [
       "['athena-query-res-jan',\n",
       " 'aws-athena-query-results-642924624251-us-east-1',\n",
       " 'aws-glue-assets-642924624251-us-east-1',\n",
       " 'boto-bucket-16',\n",
       " 'de-yt-starterdata-bkp',\n",
       " 'pipe-line-source',\n",
       " 'tab-mcq-de']"
      ]
     },
     "execution_count": 6,
     "metadata": {},
     "output_type": "execute_result"
    }
   ],
   "source": [
    "# listing the buckets\n",
    "\n",
    "wr.s3.list_buckets(boto3_session=my_session)"
   ]
  },
  {
   "cell_type": "code",
   "execution_count": 7,
   "id": "fe26d767",
   "metadata": {
    "execution": {
     "iopub.execute_input": "2023-01-28T03:31:51.006812Z",
     "iopub.status.busy": "2023-01-28T03:31:51.005804Z",
     "iopub.status.idle": "2023-01-28T03:31:51.996546Z",
     "shell.execute_reply": "2023-01-28T03:31:51.995183Z"
    },
    "papermill": {
     "duration": 1.002274,
     "end_time": "2023-01-28T03:31:51.999179",
     "exception": false,
     "start_time": "2023-01-28T03:31:50.996905",
     "status": "completed"
    },
    "tags": []
   },
   "outputs": [
    {
     "data": {
      "text/plain": [
       "[]"
      ]
     },
     "execution_count": 7,
     "metadata": {},
     "output_type": "execute_result"
    }
   ],
   "source": [
    "#AWSWrangler way\n",
    "\n",
    "wr.s3.list_objects(path=f's3://'+stage_path,boto3_session=my_session)\n",
    "\n",
    "#AWSWrangler is quiet when it comes to empty buckets. "
   ]
  },
  {
   "cell_type": "markdown",
   "id": "499ddd3a",
   "metadata": {
    "papermill": {
     "duration": 0.007114,
     "end_time": "2023-01-28T03:31:52.014493",
     "exception": false,
     "start_time": "2023-01-28T03:31:52.007379",
     "status": "completed"
    },
    "tags": []
   },
   "source": [
    "List of Sources : \n",
    "\n",
    "In this notebook we will consider the following sources\n",
    "\n",
    "1) CSV or Json file from Kaggle dataset API\n",
    "    \n",
    "    a) Method 1: Use Kaggle notebook to load the dataset and then upload to \n",
    "\n",
    "2) File of any type in the local file system\n",
    "\n",
    "3) Data needs to be pulled from a web API \n",
    "\n",
    "4) Tables from Local or Remote Relational Database needs to be dumped \n",
    "\n",
    "5) Tables inside Data Warehouses"
   ]
  },
  {
   "cell_type": "code",
   "execution_count": null,
   "id": "8cce3458",
   "metadata": {
    "papermill": {
     "duration": 0.00671,
     "end_time": "2023-01-28T03:31:52.028332",
     "exception": false,
     "start_time": "2023-01-28T03:31:52.021622",
     "status": "completed"
    },
    "tags": []
   },
   "outputs": [],
   "source": []
  },
  {
   "cell_type": "code",
   "execution_count": null,
   "id": "b12689b3",
   "metadata": {
    "papermill": {
     "duration": 0.006739,
     "end_time": "2023-01-28T03:31:52.042155",
     "exception": false,
     "start_time": "2023-01-28T03:31:52.035416",
     "status": "completed"
    },
    "tags": []
   },
   "outputs": [],
   "source": []
  },
  {
   "cell_type": "code",
   "execution_count": null,
   "id": "638ab6a7",
   "metadata": {
    "papermill": {
     "duration": 0.006787,
     "end_time": "2023-01-28T03:31:52.055857",
     "exception": false,
     "start_time": "2023-01-28T03:31:52.049070",
     "status": "completed"
    },
    "tags": []
   },
   "outputs": [],
   "source": []
  }
 ],
 "metadata": {
  "kernelspec": {
   "display_name": "Python 3",
   "language": "python",
   "name": "python3"
  },
  "language_info": {
   "codemirror_mode": {
    "name": "ipython",
    "version": 3
   },
   "file_extension": ".py",
   "mimetype": "text/x-python",
   "name": "python",
   "nbconvert_exporter": "python",
   "pygments_lexer": "ipython3",
   "version": "3.7.12"
  },
  "papermill": {
   "default_parameters": {},
   "duration": 33.578799,
   "end_time": "2023-01-28T03:31:52.885394",
   "environment_variables": {},
   "exception": null,
   "input_path": "__notebook__.ipynb",
   "output_path": "__notebook__.ipynb",
   "parameters": {},
   "start_time": "2023-01-28T03:31:19.306595",
   "version": "2.3.4"
  }
 },
 "nbformat": 4,
 "nbformat_minor": 5
}
