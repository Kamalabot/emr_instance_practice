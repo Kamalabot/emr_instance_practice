{
 "cells": [
  {
   "cell_type": "code",
   "execution_count": 2,
   "id": "405a73b3-5581-4db6-a9b7-837d18bd10ac",
   "metadata": {},
   "outputs": [],
   "source": [
    "from pyspark.sql import SparkSession\n",
    "import pandas as pd\n",
    "import boto3\n",
    "import configparser"
   ]
  },
  {
   "cell_type": "code",
   "execution_count": 3,
   "id": "5afc541e-794d-4269-9815-07fd90123a71",
   "metadata": {},
   "outputs": [],
   "source": [
    "import warnings\n",
    "warnings.filterwarnings('ignore')"
   ]
  },
  {
   "cell_type": "code",
   "execution_count": 4,
   "id": "b92e6f95-c173-4ac1-aec6-11b957f0b7b5",
   "metadata": {},
   "outputs": [
    {
     "name": "stderr",
     "output_type": "stream",
     "text": [
      "2023-01-22 06:08:28,241 WARN util.NativeCodeLoader: Unable to load native-hadoop library for your platform... using builtin-java classes where applicable\n",
      "Setting default log level to \"WARN\".\n",
      "To adjust logging level use sc.setLogLevel(newLevel). For SparkR, use setLogLevel(newLevel).\n"
     ]
    }
   ],
   "source": [
    "spark = SparkSession. \\\n",
    "    builder. \\\n",
    "    enableHiveSupport(). \\\n",
    "    appName('Demo'). \\\n",
    "    master('yarn'). \\\n",
    "    getOrCreate()"
   ]
  },
  {
   "cell_type": "code",
   "execution_count": 5,
   "id": "13273834-f9a3-45b1-b302-44aaf7f32f25",
   "metadata": {},
   "outputs": [],
   "source": [
    "sql = spark.sql\n",
    "sc = spark.sparkContext"
   ]
  },
  {
   "cell_type": "code",
   "execution_count": 6,
   "id": "5003edf6-f526-4f2d-acac-44c0d8890345",
   "metadata": {},
   "outputs": [
    {
     "name": "stderr",
     "output_type": "stream",
     "text": [
      "2023-01-22 06:08:53,735 WARN conf.HiveConf: HiveConf of name hive.stats.jdbc.timeout does not exist\n",
      "2023-01-22 06:08:53,736 WARN conf.HiveConf: HiveConf of name hive.stats.retries.wait does not exist\n",
      "2023-01-22 06:08:55,336 ERROR metastore.ObjectStore: Version information found in metastore differs 1.2.0 from expected schema version 2.3.0. Schema verififcation is disabled hive.metastore.schema.verification\n",
      "2023-01-22 06:08:55,337 WARN metastore.ObjectStore: setMetaStoreSchemaVersion called but recording version is disabled: version = 2.3.0, comment = Set by MetaStore ubuntu@172.31.26.41\n"
     ]
    },
    {
     "name": "stdout",
     "output_type": "stream",
     "text": [
      "+---------+\n",
      "|namespace|\n",
      "+---------+\n",
      "|  default|\n",
      "|retail_db|\n",
      "+---------+\n",
      "\n"
     ]
    }
   ],
   "source": [
    "sql(\"SHOW databases\").show()"
   ]
  },
  {
   "cell_type": "code",
   "execution_count": 7,
   "id": "4a7fdeca-09c7-40eb-a0a9-6954d45fb9c3",
   "metadata": {
    "tags": []
   },
   "outputs": [
    {
     "name": "stderr",
     "output_type": "stream",
     "text": [
      "2023-01-22 06:09:13,653 WARN metastore.ObjectStore: Failed to get database global_temp, returning NoSuchObjectException\n",
      "[Stage 0:=============================>                             (1 + 1) / 2]\r"
     ]
    },
    {
     "name": "stdout",
     "output_type": "stream",
     "text": [
      "+--------+--------------------+-----------------+---------------+\n",
      "|order_id|          order_date|order_customer_id|   order_status|\n",
      "+--------+--------------------+-----------------+---------------+\n",
      "|   34565|2014-02-23 00:00:...|             8702|       COMPLETE|\n",
      "|   34566|2014-02-23 00:00:...|             3066|PENDING_PAYMENT|\n",
      "|   34567|2014-02-23 00:00:...|             7314|SUSPECTED_FRAUD|\n",
      "|   34568|2014-02-23 00:00:...|             1271|       COMPLETE|\n",
      "|   34569|2014-02-23 00:00:...|            11083|       COMPLETE|\n",
      "+--------+--------------------+-----------------+---------------+\n",
      "\n"
     ]
    },
    {
     "name": "stderr",
     "output_type": "stream",
     "text": [
      "                                                                                \r"
     ]
    }
   ],
   "source": [
    "sql(\"SELECT * FROM retail_db.orders limit 5\").show()"
   ]
  },
  {
   "cell_type": "code",
   "execution_count": 8,
   "id": "0864848f-9593-4f95-998e-9ae63a9a1dec",
   "metadata": {},
   "outputs": [
    {
     "name": "stdout",
     "output_type": "stream",
     "text": [
      "+--------+\n",
      "|count(1)|\n",
      "+--------+\n",
      "|   68883|\n",
      "+--------+\n",
      "\n"
     ]
    }
   ],
   "source": [
    "sql(\"SELECT COUNT(1) FROM retail_db.orders\").show()"
   ]
  },
  {
   "cell_type": "code",
   "execution_count": null,
   "id": "a69f32fc-f104-40d1-a80e-10cfb2b14a07",
   "metadata": {},
   "outputs": [],
   "source": []
  },
  {
   "cell_type": "code",
   "execution_count": null,
   "id": "32b34abd-1605-4edc-b1ba-80bc016d6f16",
   "metadata": {},
   "outputs": [],
   "source": []
  },
  {
   "cell_type": "code",
   "execution_count": null,
   "id": "0b2943ce-aecd-40de-90e9-1feb0a9257d5",
   "metadata": {},
   "outputs": [],
   "source": []
  },
  {
   "cell_type": "code",
   "execution_count": null,
   "id": "7726d467-f5f5-4cb7-94bf-f35aa2dbb0df",
   "metadata": {},
   "outputs": [],
   "source": []
  },
  {
   "cell_type": "code",
   "execution_count": null,
   "id": "51e6cc4b-f835-4bb0-ab24-435e8b5b8f3c",
   "metadata": {},
   "outputs": [],
   "source": []
  }
 ],
 "metadata": {
  "kernelspec": {
   "display_name": "Pyspark 3",
   "language": "python",
   "name": "pyspark3"
  },
  "language_info": {
   "codemirror_mode": {
    "name": "ipython",
    "version": 3
   },
   "file_extension": ".py",
   "mimetype": "text/x-python",
   "name": "python",
   "nbconvert_exporter": "python",
   "pygments_lexer": "ipython3",
   "version": "3.10.6"
  }
 },
 "nbformat": 4,
 "nbformat_minor": 5
}
