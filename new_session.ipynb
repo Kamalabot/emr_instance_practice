{
 "cells": [
  {
   "cell_type": "code",
   "execution_count": 1,
   "id": "1e7393e7-34e4-49f0-a13f-82c8f3edcb7a",
   "metadata": {},
   "outputs": [],
   "source": [
    "from pyspark.sql import SparkSession"
   ]
  },
  {
   "cell_type": "code",
   "execution_count": 2,
   "id": "73632491-e618-4e25-9399-1901a326aae3",
   "metadata": {},
   "outputs": [
    {
     "name": "stderr",
     "output_type": "stream",
     "text": [
      "2023-01-23 06:56:14,903 WARN util.NativeCodeLoader: Unable to load native-hadoop library for your platform... using builtin-java classes where applicable\n",
      "Setting default log level to \"WARN\".\n",
      "To adjust logging level use sc.setLogLevel(newLevel). For SparkR, use setLogLevel(newLevel).\n"
     ]
    }
   ],
   "source": [
    "spark = SparkSession. \\\n",
    "    builder. \\\n",
    "    config('spark.ui.port','0'). \\\n",
    "    config('spark.sql.warehouse.dir',f\"/user/ubuntu/warehouse\"). \\\n",
    "    config('spark.executor.instances',40). \\\n",
    "    enableHiveSupport(). \\\n",
    "    appName('warehouse creator'). \\\n",
    "    master('yarn'). \\\n",
    "    getOrCreate()"
   ]
  },
  {
   "cell_type": "code",
   "execution_count": 3,
   "id": "e27ec01b-c45d-4ebf-a390-1ecd7972c870",
   "metadata": {},
   "outputs": [],
   "source": [
    "import warnings\n",
    "warnings.filterwarnings(\"ignore\")"
   ]
  },
  {
   "cell_type": "code",
   "execution_count": 5,
   "id": "557ade37-db7c-4ec5-8873-a6c44a0592f9",
   "metadata": {},
   "outputs": [],
   "source": [
    "# executing one of the notebooks from the dataengineerin\n",
    "# spark repo"
   ]
  },
  {
   "cell_type": "code",
   "execution_count": 4,
   "id": "cc584aa1-b76e-40c4-9755-2bbeb5fbc058",
   "metadata": {},
   "outputs": [
    {
     "data": {
      "text/html": [
       "\n",
       "            <div>\n",
       "                <p><b>SparkSession - hive</b></p>\n",
       "                \n",
       "        <div>\n",
       "            <p><b>SparkContext</b></p>\n",
       "\n",
       "            <p><a href=\"http://ip-172-31-26-41.ec2.internal:39361\">Spark UI</a></p>\n",
       "\n",
       "            <dl>\n",
       "              <dt>Version</dt>\n",
       "                <dd><code>v3.1.2</code></dd>\n",
       "              <dt>Master</dt>\n",
       "                <dd><code>yarn</code></dd>\n",
       "              <dt>AppName</dt>\n",
       "                <dd><code>warehouse creator</code></dd>\n",
       "            </dl>\n",
       "        </div>\n",
       "        \n",
       "            </div>\n",
       "        "
      ],
      "text/plain": [
       "<pyspark.sql.session.SparkSession at 0x7f2d313fbfd0>"
      ]
     },
     "execution_count": 4,
     "metadata": {},
     "output_type": "execute_result"
    }
   ],
   "source": [
    "spark"
   ]
  },
  {
   "cell_type": "code",
   "execution_count": 7,
   "id": "857b1f0b-c50f-40b3-bf5b-17346475b06a",
   "metadata": {},
   "outputs": [
    {
     "name": "stdout",
     "output_type": "stream",
     "text": [
      "categories\n",
      "customers\n",
      "departments\n",
      "order_items\n",
      "orders\n",
      "products\n"
     ]
    }
   ],
   "source": [
    "%%sh\n",
    "\n",
    "ls /data/retail_db"
   ]
  },
  {
   "cell_type": "markdown",
   "id": "f634f888-3ac8-47ca-8cda-c3dfe9da92d2",
   "metadata": {},
   "source": [
    "The path has to be Hadoop file system"
   ]
  },
  {
   "cell_type": "code",
   "execution_count": 12,
   "id": "760c642a-7b85-427b-8b6a-72f933d51010",
   "metadata": {
    "tags": []
   },
   "outputs": [],
   "source": [
    "orders = spark.read.csv('/public/retail_db/orders/',\n",
    "                        schema = \"\"\"\n",
    "                            order_id INT,\n",
    "                            order_date STRING,\n",
    "                            order_customer_id INT,\n",
    "                            order_status STRING\"\"\")"
   ]
  },
  {
   "cell_type": "code",
   "execution_count": 11,
   "id": "23f398b5-5db9-4e88-8a77-6e4d8551f590",
   "metadata": {
    "collapsed": true,
    "jupyter": {
     "outputs_hidden": true
    },
    "tags": []
   },
   "outputs": [
    {
     "name": "stdout",
     "output_type": "stream",
     "text": [
      "Found 6 items\n",
      "drwxr-xr-x   - ubuntu supergroup          0 2023-01-21 15:02 /public/retail_db/categories\n",
      "drwxr-xr-x   - ubuntu supergroup          0 2023-01-21 15:02 /public/retail_db/customers\n",
      "drwxr-xr-x   - ubuntu supergroup          0 2023-01-21 15:03 /public/retail_db/departments\n",
      "drwxr-xr-x   - ubuntu supergroup          0 2023-01-21 15:03 /public/retail_db/order_items\n",
      "drwxr-xr-x   - ubuntu supergroup          0 2023-01-21 15:03 /public/retail_db/orders\n",
      "drwxr-xr-x   - ubuntu supergroup          0 2023-01-21 15:03 /public/retail_db/products\n"
     ]
    }
   ],
   "source": [
    "%%sh\n",
    "\n",
    "hdfs dfs -ls /public/retail_db"
   ]
  },
  {
   "cell_type": "code",
   "execution_count": 13,
   "id": "b366a39f-28b2-4679-8dc0-f0ecc2132628",
   "metadata": {},
   "outputs": [
    {
     "name": "stderr",
     "output_type": "stream",
     "text": [
      "[Stage 0:>                                                          (0 + 1) / 1]\r"
     ]
    },
    {
     "name": "stdout",
     "output_type": "stream",
     "text": [
      "+--------+--------------------+-----------------+---------------+\n",
      "|order_id|          order_date|order_customer_id|   order_status|\n",
      "+--------+--------------------+-----------------+---------------+\n",
      "|       1|2013-07-25 00:00:...|            11599|         CLOSED|\n",
      "|       2|2013-07-25 00:00:...|              256|PENDING_PAYMENT|\n",
      "+--------+--------------------+-----------------+---------------+\n",
      "only showing top 2 rows\n",
      "\n"
     ]
    },
    {
     "name": "stderr",
     "output_type": "stream",
     "text": [
      "                                                                                \r"
     ]
    }
   ],
   "source": [
    "orders.show(2)"
   ]
  },
  {
   "cell_type": "code",
   "execution_count": 15,
   "id": "c6f1cccd-98be-41e0-9af8-485b5d59e610",
   "metadata": {},
   "outputs": [
    {
     "name": "stdout",
     "output_type": "stream",
     "text": [
      "Found 1 items\n",
      "drwxr-xr-x   - ubuntu supergroup          0 2023-01-22 13:53 /user/ubuntu/bigg_data/nyse_all\n"
     ]
    }
   ],
   "source": [
    "%%sh \n",
    "\n",
    "hdfs dfs -ls /user/ubuntu/bigg_data"
   ]
  },
  {
   "cell_type": "code",
   "execution_count": 23,
   "id": "d108f84c-a3d4-4938-8c7a-26ebb0afe97a",
   "metadata": {},
   "outputs": [
    {
     "name": "stdout",
     "output_type": "stream",
     "text": [
      "ttp://www.nasdaq.com/symbol/zmh|\n",
      "ZB^A|Zions Bancorporation|20.8795|0|n/a|n/a|n/a|n/a|http://www.nasdaq.com/symbol/zb^a|\n",
      "ZB^F|Zions Bancorporation|28.2|0|n/a|n/a|n/a|n/a|http://www.nasdaq.com/symbol/zb^f|\n",
      "ZB^G|Zions Bancorporation|25.66|0|n/a|n/a|n/a|n/a|http://www.nasdaq.com/symbol/zb^g|\n",
      "ZB^H|Zions Bancorporation|23.26|0|n/a|n/a|n/a|n/a|http://www.nasdaq.com/symbol/zb^h|\n",
      "ZBK|Zions Bancorporation|27.0151|0|n/a|n/a|Finance|Major Banks|http://www.nasdaq.com/symbol/zbk|\n",
      "ZOES|Zoe&#39;s Kitchen, Inc.|29.09|535103190.23|n/a|2014|Consumer Services|Restaurants|http://www.nasdaq.com/symbol/zoes|\n",
      "ZTS|Zoetis Inc.|30.72|15391294156.8|n/a|2013|Health Care|Major Pharmaceuticals|http://www.nasdaq.com/symbol/zts|\n",
      "ZA|Zuoan Fashion Limited|1.74|48405108.72|n/a|2011|Consumer Non-Durables|Apparel|http://www.nasdaq.com/symbol/za|\n",
      "ZF|Zweig Fund, Inc. (The)|15.39|318197376.27|n/a|1986|n/a|n/a|http://www.nasdaq.com/symbol/zf|\n",
      "ZTR|Zweig Total Return Fund, Inc. (The)|14.15|490203176.1|n/a|1988|n/a|n/a|http://www.nasdaq.com/symbol/ztr|\n"
     ]
    }
   ],
   "source": [
    "%%sh \n",
    "\n",
    "hdfs dfs -tail /user/ubuntu/bigg_data/nyse_all/nyse_stocks/companylist_noheader.csv"
   ]
  },
  {
   "cell_type": "code",
   "execution_count": 30,
   "id": "fba380dc-77a7-4b6d-899a-7ebe4560be4c",
   "metadata": {},
   "outputs": [],
   "source": [
    "nyse_read = spark.read.csv(\"/user/ubuntu/bigg_data/nyse_all/nyse_stocks/\",\n",
    "                          sep='|',inferSchema=True)\n",
    "                           "
   ]
  },
  {
   "cell_type": "code",
   "execution_count": 31,
   "id": "cea8f8cc-f49e-4328-bbb5-ca2b8f25d869",
   "metadata": {},
   "outputs": [
    {
     "name": "stdout",
     "output_type": "stream",
     "text": [
      "root\n",
      " |-- _c0: string (nullable = true)\n",
      " |-- _c1: string (nullable = true)\n",
      " |-- _c2: string (nullable = true)\n",
      " |-- _c3: double (nullable = true)\n",
      " |-- _c4: string (nullable = true)\n",
      " |-- _c5: string (nullable = true)\n",
      " |-- _c6: string (nullable = true)\n",
      " |-- _c7: string (nullable = true)\n",
      " |-- _c8: string (nullable = true)\n",
      " |-- _c9: string (nullable = true)\n",
      "\n"
     ]
    }
   ],
   "source": [
    "nyse_read.printSchema()"
   ]
  },
  {
   "cell_type": "code",
   "execution_count": 5,
   "id": "54fe311c-696a-49c1-9e75-03ed7c7ebc93",
   "metadata": {},
   "outputs": [
    {
     "name": "stderr",
     "output_type": "stream",
     "text": [
      "2023-01-23 06:56:51,766 WARN conf.HiveConf: HiveConf of name hive.stats.jdbc.timeout does not exist\n",
      "2023-01-23 06:56:51,767 WARN conf.HiveConf: HiveConf of name hive.stats.retries.wait does not exist\n",
      "2023-01-23 06:56:53,534 ERROR metastore.ObjectStore: Version information found in metastore differs 1.2.0 from expected schema version 2.3.0. Schema verififcation is disabled hive.metastore.schema.verification\n",
      "2023-01-23 06:56:53,535 WARN metastore.ObjectStore: setMetaStoreSchemaVersion called but recording version is disabled: version = 2.3.0, comment = Set by MetaStore ubuntu@172.31.26.41\n"
     ]
    },
    {
     "name": "stdout",
     "output_type": "stream",
     "text": [
      "++\n",
      "||\n",
      "++\n",
      "++\n",
      "\n"
     ]
    },
    {
     "name": "stderr",
     "output_type": "stream",
     "text": [
      "2023-01-23 06:56:53,750 WARN metastore.ObjectStore: Failed to get database global_temp, returning NoSuchObjectException\n"
     ]
    }
   ],
   "source": [
    "spark.sql(\"USE practice_retail\").show()"
   ]
  },
  {
   "cell_type": "code",
   "execution_count": 6,
   "id": "39c2ea81-e0bb-4166-a673-f437bf1f6bea",
   "metadata": {},
   "outputs": [
    {
     "data": {
      "text/html": [
       "<table border='1'>\n",
       "<tr><th>database</th><th>tableName</th><th>isTemporary</th></tr>\n",
       "<tr><td>practice_retail</td><td>order_items</td><td>false</td></tr>\n",
       "<tr><td>practice_retail</td><td>orders</td><td>false</td></tr>\n",
       "</table>\n"
      ],
      "text/plain": [
       "+---------------+-----------+-----------+\n",
       "|       database|  tableName|isTemporary|\n",
       "+---------------+-----------+-----------+\n",
       "|practice_retail|order_items|      false|\n",
       "|practice_retail|     orders|      false|\n",
       "+---------------+-----------+-----------+"
      ]
     },
     "execution_count": 6,
     "metadata": {},
     "output_type": "execute_result"
    }
   ],
   "source": [
    "spark.sql(\"SHOW TABLES\")"
   ]
  },
  {
   "cell_type": "code",
   "execution_count": 42,
   "id": "0822416e-97f6-4ca1-bb62-9ebfb0af47cb",
   "metadata": {},
   "outputs": [
    {
     "data": {
      "text/html": [
       "<table border='1'>\n",
       "<tr><th></th></tr>\n",
       "</table>\n"
      ],
      "text/plain": [
       "++\n",
       "||\n",
       "++\n",
       "++"
      ]
     },
     "execution_count": 42,
     "metadata": {},
     "output_type": "execute_result"
    }
   ],
   "source": [
    "spark.sql(\"USE default\")"
   ]
  },
  {
   "cell_type": "code",
   "execution_count": 43,
   "id": "0d637225-ce57-439e-ac94-f32c6fc2be8d",
   "metadata": {},
   "outputs": [
    {
     "data": {
      "text/html": [
       "<table border='1'>\n",
       "<tr><th>database</th><th>tableName</th><th>isTemporary</th></tr>\n",
       "</table>\n"
      ],
      "text/plain": [
       "+--------+---------+-----------+\n",
       "|database|tableName|isTemporary|\n",
       "+--------+---------+-----------+\n",
       "+--------+---------+-----------+"
      ]
     },
     "execution_count": 43,
     "metadata": {},
     "output_type": "execute_result"
    }
   ],
   "source": [
    "spark.sql(\"SHOW TABLES\")"
   ]
  },
  {
   "cell_type": "code",
   "execution_count": 35,
   "id": "fbc3f447-fc7c-4055-b4d2-1e6be012c5dc",
   "metadata": {},
   "outputs": [],
   "source": [
    "%%sh\n",
    "\n",
    "hdfs dfs -put /home/ubuntu/bigdata/yelp_academic_dataset_user.json \\\n",
    "    /user/ubuntu/bigg_data/yelp_data/"
   ]
  },
  {
   "cell_type": "code",
   "execution_count": 44,
   "id": "e4afc83a-4dc4-493d-bc2d-1dddcf3aed0d",
   "metadata": {},
   "outputs": [
    {
     "name": "stdout",
     "output_type": "stream",
     "text": [
      "Found 1 items\n",
      "-rw-r--r--   1 ubuntu supergroup 2951073792 2023-01-23 06:11 /user/ubuntu/bigg_data/yelp_data/yelp_academic_dataset_user.json\n"
     ]
    }
   ],
   "source": [
    "%%sh\n",
    "\n",
    "hdfs dfs -ls /user/ubuntu/bigg_data/yelp_data/"
   ]
  },
  {
   "cell_type": "code",
   "execution_count": 45,
   "id": "1ca75d44-d570-4be6-986c-9b3fd6d96f7c",
   "metadata": {},
   "outputs": [
    {
     "name": "stderr",
     "output_type": "stream",
     "text": [
      "                                                                                \r"
     ]
    }
   ],
   "source": [
    "yelping = spark.read.json(\"/user/ubuntu/bigg_data/yelp_data/\")"
   ]
  },
  {
   "cell_type": "code",
   "execution_count": 9,
   "id": "8e74264a-075e-412f-9aa2-479ad345a068",
   "metadata": {},
   "outputs": [
    {
     "name": "stdout",
     "output_type": "stream",
     "text": [
      "Found 5 items\n",
      "-rw-r--r--   1 ubuntu supergroup  792609318 2023-01-23 06:30 /user/ubuntu/bigg_data/airline/2009.csv\n",
      "-rw-r--r--   1 ubuntu supergroup  794152224 2023-01-23 06:30 /user/ubuntu/bigg_data/airline/2010.csv\n",
      "-rw-r--r--   1 ubuntu supergroup  746858940 2023-01-23 06:30 /user/ubuntu/bigg_data/airline/2011.csv\n",
      "-rw-r--r--   1 ubuntu supergroup  775286574 2023-01-23 06:30 /user/ubuntu/bigg_data/airline/2012.csv\n",
      "-rw-r--r--   1 ubuntu supergroup  121307136 2023-01-23 06:30 /user/ubuntu/bigg_data/airline/2013.csv\n"
     ]
    }
   ],
   "source": [
    "%%sh\n",
    "\n",
    "hdfs dfs -ls /user/ubuntu/bigg_data/airline/"
   ]
  },
  {
   "cell_type": "code",
   "execution_count": 7,
   "id": "cf637f96-c17b-46f2-a135-8e1751abf971",
   "metadata": {},
   "outputs": [
    {
     "name": "stderr",
     "output_type": "stream",
     "text": [
      "2023-01-23 06:57:25,580 WARN util.package: Truncated the string representation of a plan since it was too large. This behavior can be adjusted by setting 'spark.sql.debug.maxToStringFields'.\n"
     ]
    },
    {
     "name": "stdout",
     "output_type": "stream",
     "text": [
      "+----------+----------+-----------------+------+----+------------+--------+---------+--------+----------+---------+-------+------------+--------+---------+---------+-----------------+--------+----------------+-------------------+--------+--------+-------------+-------------+---------+--------------+-------------------+-----------+\n",
      "|   FL_DATE|OP_CARRIER|OP_CARRIER_FL_NUM|ORIGIN|DEST|CRS_DEP_TIME|DEP_TIME|DEP_DELAY|TAXI_OUT|WHEELS_OFF|WHEELS_ON|TAXI_IN|CRS_ARR_TIME|ARR_TIME|ARR_DELAY|CANCELLED|CANCELLATION_CODE|DIVERTED|CRS_ELAPSED_TIME|ACTUAL_ELAPSED_TIME|AIR_TIME|DISTANCE|CARRIER_DELAY|WEATHER_DELAY|NAS_DELAY|SECURITY_DELAY|LATE_AIRCRAFT_DELAY|Unnamed: 27|\n",
      "+----------+----------+-----------------+------+----+------------+--------+---------+--------+----------+---------+-------+------------+--------+---------+---------+-----------------+--------+----------------+-------------------+--------+--------+-------------+-------------+---------+--------------+-------------------+-----------+\n",
      "|2009-01-01|        XE|             1204|   DCA| EWR|        1100|  1058.0|     -2.0|    18.0|    1116.0|   1158.0|    8.0|        1202|  1206.0|      4.0|      0.0|             null|     0.0|            62.0|               68.0|    42.0|   199.0|         null|         null|     null|          null|               null|       null|\n",
      "|2009-01-01|        XE|             1206|   EWR| IAD|        1510|  1509.0|     -1.0|    28.0|    1537.0|   1620.0|    4.0|        1632|  1624.0|     -8.0|      0.0|             null|     0.0|            82.0|               75.0|    43.0|   213.0|         null|         null|     null|          null|               null|       null|\n",
      "+----------+----------+-----------------+------+----+------------+--------+---------+--------+----------+---------+-------+------------+--------+---------+---------+-----------------+--------+----------------+-------------------+--------+--------+-------------+-------------+---------+--------------+-------------------+-----------+\n",
      "only showing top 2 rows\n",
      "\n"
     ]
    }
   ],
   "source": [
    "airline = spark.read.csv(\"/user/ubuntu/bigg_data/airline/2009.csv\",\n",
    "                         sep=',',inferSchema=True,header=True)\n",
    "airline.show(2)"
   ]
  },
  {
   "cell_type": "code",
   "execution_count": 8,
   "id": "e84c0a5b-aecc-40d6-8f5d-80853aa1825a",
   "metadata": {},
   "outputs": [
    {
     "name": "stderr",
     "output_type": "stream",
     "text": [
      "                                                                                \r"
     ]
    },
    {
     "data": {
      "text/plain": [
       "6429338"
      ]
     },
     "execution_count": 8,
     "metadata": {},
     "output_type": "execute_result"
    }
   ],
   "source": [
    "airline.count()"
   ]
  },
  {
   "cell_type": "code",
   "execution_count": 14,
   "id": "c6ab48f9-027f-4044-b468-18394556b2e2",
   "metadata": {
    "collapsed": true,
    "jupyter": {
     "outputs_hidden": true
    },
    "tags": []
   },
   "outputs": [
    {
     "name": "stdout",
     "output_type": "stream",
     "text": [
      "root\n",
      " |-- FL_DATE: string (nullable = true)\n",
      " |-- OP_CARRIER: string (nullable = true)\n",
      " |-- OP_CARRIER_FL_NUM: integer (nullable = true)\n",
      " |-- ORIGIN: string (nullable = true)\n",
      " |-- DEST: string (nullable = true)\n",
      " |-- CRS_DEP_TIME: integer (nullable = true)\n",
      " |-- DEP_TIME: double (nullable = true)\n",
      " |-- DEP_DELAY: double (nullable = true)\n",
      " |-- TAXI_OUT: double (nullable = true)\n",
      " |-- WHEELS_OFF: double (nullable = true)\n",
      " |-- WHEELS_ON: double (nullable = true)\n",
      " |-- TAXI_IN: double (nullable = true)\n",
      " |-- CRS_ARR_TIME: integer (nullable = true)\n",
      " |-- ARR_TIME: double (nullable = true)\n",
      " |-- ARR_DELAY: double (nullable = true)\n",
      " |-- CANCELLED: double (nullable = true)\n",
      " |-- CANCELLATION_CODE: string (nullable = true)\n",
      " |-- DIVERTED: double (nullable = true)\n",
      " |-- CRS_ELAPSED_TIME: double (nullable = true)\n",
      " |-- ACTUAL_ELAPSED_TIME: double (nullable = true)\n",
      " |-- AIR_TIME: double (nullable = true)\n",
      " |-- DISTANCE: double (nullable = true)\n",
      " |-- CARRIER_DELAY: double (nullable = true)\n",
      " |-- WEATHER_DELAY: double (nullable = true)\n",
      " |-- NAS_DELAY: double (nullable = true)\n",
      " |-- SECURITY_DELAY: double (nullable = true)\n",
      " |-- LATE_AIRCRAFT_DELAY: double (nullable = true)\n",
      " |-- Unnamed: 27: string (nullable = true)\n",
      "\n"
     ]
    }
   ],
   "source": [
    "airline_schema = airline.printSchema()"
   ]
  },
  {
   "cell_type": "code",
   "execution_count": 11,
   "id": "8c9b164b-264b-4ef6-8de3-7c44db2e0d62",
   "metadata": {},
   "outputs": [],
   "source": [
    "airlineSchema = airline.schema"
   ]
  },
  {
   "cell_type": "code",
   "execution_count": 13,
   "id": "f42728cb-9915-4188-a8a6-ce5d33175436",
   "metadata": {},
   "outputs": [],
   "source": [
    "full_airline = spark.read.csv(\"/user/ubuntu/bigg_data/airline/\",\n",
    "                              schema=airlineSchema,\n",
    "                              header=True)"
   ]
  },
  {
   "cell_type": "code",
   "execution_count": 14,
   "id": "459b23f5-0637-4442-a9f4-026683bfffdc",
   "metadata": {
    "tags": []
   },
   "outputs": [
    {
     "name": "stderr",
     "output_type": "stream",
     "text": [
      "                                                                                \r"
     ]
    },
    {
     "data": {
      "text/plain": [
       "26028000"
      ]
     },
     "execution_count": 14,
     "metadata": {},
     "output_type": "execute_result"
    }
   ],
   "source": [
    "full_airline.count()"
   ]
  },
  {
   "cell_type": "code",
   "execution_count": 20,
   "id": "d6c1fa19-3b84-4be4-9cca-0012fdd616c1",
   "metadata": {},
   "outputs": [
    {
     "name": "stdout",
     "output_type": "stream",
     "text": [
      "+----------+----------+-----------------+------+----+------------+--------+---------+--------+----------+---------+-------+------------+--------+---------+---------+-----------------+--------+----------------+-------------------+--------+--------+-------------+-------------+---------+--------------+-------------------+-----------+\n",
      "|   FL_DATE|OP_CARRIER|OP_CARRIER_FL_NUM|ORIGIN|DEST|CRS_DEP_TIME|DEP_TIME|DEP_DELAY|TAXI_OUT|WHEELS_OFF|WHEELS_ON|TAXI_IN|CRS_ARR_TIME|ARR_TIME|ARR_DELAY|CANCELLED|CANCELLATION_CODE|DIVERTED|CRS_ELAPSED_TIME|ACTUAL_ELAPSED_TIME|AIR_TIME|DISTANCE|CARRIER_DELAY|WEATHER_DELAY|NAS_DELAY|SECURITY_DELAY|LATE_AIRCRAFT_DELAY|Unnamed: 27|\n",
      "+----------+----------+-----------------+------+----+------------+--------+---------+--------+----------+---------+-------+------------+--------+---------+---------+-----------------+--------+----------------+-------------------+--------+--------+-------------+-------------+---------+--------------+-------------------+-----------+\n",
      "|2009-01-01|        XE|             1204|   DCA| EWR|        1100|  1058.0|     -2.0|    18.0|    1116.0|   1158.0|    8.0|        1202|  1206.0|      4.0|      0.0|             null|     0.0|            62.0|               68.0|    42.0|   199.0|         null|         null|     null|          null|               null|       null|\n",
      "|2009-01-01|        XE|             1206|   EWR| IAD|        1510|  1509.0|     -1.0|    28.0|    1537.0|   1620.0|    4.0|        1632|  1624.0|     -8.0|      0.0|             null|     0.0|            82.0|               75.0|    43.0|   213.0|         null|         null|     null|          null|               null|       null|\n",
      "+----------+----------+-----------------+------+----+------------+--------+---------+--------+----------+---------+-------+------------+--------+---------+---------+-----------------+--------+----------------+-------------------+--------+--------+-------------+-------------+---------+--------------+-------------------+-----------+\n",
      "only showing top 2 rows\n",
      "\n"
     ]
    }
   ],
   "source": [
    "full_airline.show(2)"
   ]
  },
  {
   "cell_type": "code",
   "execution_count": 25,
   "id": "2103f448-da15-47c2-93a5-0071ac32a4fe",
   "metadata": {},
   "outputs": [],
   "source": [
    "from pyspark.sql.functions import *"
   ]
  },
  {
   "cell_type": "code",
   "execution_count": 29,
   "id": "636b0093-7192-4c63-991e-94949057e8f1",
   "metadata": {
    "tags": []
   },
   "outputs": [],
   "source": [
    "full_airline = full_airline.drop('Unnamed: 27')"
   ]
  },
  {
   "cell_type": "code",
   "execution_count": 15,
   "id": "fbd3a7f0-7d33-4cf8-b3dd-ddba666e2e3a",
   "metadata": {},
   "outputs": [
    {
     "name": "stderr",
     "output_type": "stream",
     "text": [
      "2023-01-23 07:02:30,484 WARN metastore.ObjectStore: Failed to get database airline_demo, returning NoSuchObjectException\n"
     ]
    },
    {
     "data": {
      "text/html": [
       "<table border='1'>\n",
       "<tr><th></th></tr>\n",
       "</table>\n"
      ],
      "text/plain": [
       "++\n",
       "||\n",
       "++\n",
       "++"
      ]
     },
     "execution_count": 15,
     "metadata": {},
     "output_type": "execute_result"
    }
   ],
   "source": [
    "spark.sql(\"CREATE DATABASE airline_demo\")"
   ]
  },
  {
   "cell_type": "code",
   "execution_count": 16,
   "id": "df553a85-ec6c-4980-bdb8-8ed4cbbde83a",
   "metadata": {},
   "outputs": [],
   "source": [
    "spark.catalog.setCurrentDatabase('airline_demo')"
   ]
  },
  {
   "cell_type": "code",
   "execution_count": 17,
   "id": "a09a6b22-3a37-4d4a-9044-5aaea5bda3ee",
   "metadata": {},
   "outputs": [
    {
     "data": {
      "text/plain": [
       "[Database(name='airline_demo', description='', locationUri='hdfs://localhost:9000/user/ubuntu/warehouse/airline_demo.db'),\n",
       " Database(name='default', description='Default Hive database', locationUri='hdfs://localhost:9000/user/hive/warehouse'),\n",
       " Database(name='practice_retail', description='', locationUri='hdfs://localhost:9000/user/ubuntu/warehouse/practice_retail.db')]"
      ]
     },
     "execution_count": 17,
     "metadata": {},
     "output_type": "execute_result"
    }
   ],
   "source": [
    "spark.catalog.listDatabases()"
   ]
  },
  {
   "cell_type": "code",
   "execution_count": 18,
   "id": "6fd26b91-60cc-4add-b811-c9f55c6be67d",
   "metadata": {},
   "outputs": [],
   "source": [
    "spark.conf.set(\"spark.sql.shuffle.partitions\",\"12\")"
   ]
  },
  {
   "cell_type": "code",
   "execution_count": 30,
   "id": "fdf71420-d05d-435a-ba06-e89e0acf0af5",
   "metadata": {},
   "outputs": [
    {
     "name": "stderr",
     "output_type": "stream",
     "text": [
      "2023-01-23 07:13:18,281 WARN session.SessionState: METASTORE_FILTER_HOOK will be ignored, since hive.security.authorization.manager is set to instance of HiveAuthorizerFactory.\n",
      "2023-01-23 07:13:18,568 WARN conf.HiveConf: HiveConf of name hive.internal.ss.authz.settings.applied.marker does not exist\n",
      "2023-01-23 07:13:18,568 WARN conf.HiveConf: HiveConf of name hive.stats.jdbc.timeout does not exist\n",
      "2023-01-23 07:13:18,568 WARN conf.HiveConf: HiveConf of name hive.stats.retries.wait does not exist\n"
     ]
    }
   ],
   "source": [
    "full_airline.write.saveAsTable('full_airline',mode='overwrite')"
   ]
  },
  {
   "cell_type": "code",
   "execution_count": 34,
   "id": "79156f52-e686-475a-8a72-f057ab6a86f0",
   "metadata": {
    "collapsed": true,
    "jupyter": {
     "outputs_hidden": true
    },
    "tags": []
   },
   "outputs": [
    {
     "name": "stdout",
     "output_type": "stream",
     "text": [
      "Found 26 items\n",
      "-rw-r--r--   1 ubuntu supergroup          0 2023-01-23 07:13 /user/ubuntu/warehouse/airline_demo.db/full_airline/_SUCCESS\n",
      "-rw-r--r--   1 ubuntu supergroup     23.3 M 2023-01-23 07:11 /user/ubuntu/warehouse/airline_demo.db/full_airline/part-00000-252ee949-904f-476f-bced-994be24cf212-c000.snappy.parquet\n",
      "-rw-r--r--   1 ubuntu supergroup     23.3 M 2023-01-23 07:11 /user/ubuntu/warehouse/airline_demo.db/full_airline/part-00001-252ee949-904f-476f-bced-994be24cf212-c000.snappy.parquet\n",
      "-rw-r--r--   1 ubuntu supergroup     23.3 M 2023-01-23 07:11 /user/ubuntu/warehouse/airline_demo.db/full_airline/part-00002-252ee949-904f-476f-bced-994be24cf212-c000.snappy.parquet\n",
      "-rw-r--r--   1 ubuntu supergroup     23.4 M 2023-01-23 07:11 /user/ubuntu/warehouse/airline_demo.db/full_airline/part-00003-252ee949-904f-476f-bced-994be24cf212-c000.snappy.parquet\n",
      "-rw-r--r--   1 ubuntu supergroup     23.1 M 2023-01-23 07:11 /user/ubuntu/warehouse/airline_demo.db/full_airline/part-00004-252ee949-904f-476f-bced-994be24cf212-c000.snappy.parquet\n",
      "-rw-r--r--   1 ubuntu supergroup     23.5 M 2023-01-23 07:11 /user/ubuntu/warehouse/airline_demo.db/full_airline/part-00005-252ee949-904f-476f-bced-994be24cf212-c000.snappy.parquet\n",
      "-rw-r--r--   1 ubuntu supergroup     23.3 M 2023-01-23 07:11 /user/ubuntu/warehouse/airline_demo.db/full_airline/part-00006-252ee949-904f-476f-bced-994be24cf212-c000.snappy.parquet\n",
      "-rw-r--r--   1 ubuntu supergroup     23.4 M 2023-01-23 07:11 /user/ubuntu/warehouse/airline_demo.db/full_airline/part-00007-252ee949-904f-476f-bced-994be24cf212-c000.snappy.parquet\n",
      "-rw-r--r--   1 ubuntu supergroup     23.5 M 2023-01-23 07:11 /user/ubuntu/warehouse/airline_demo.db/full_airline/part-00008-252ee949-904f-476f-bced-994be24cf212-c000.snappy.parquet\n",
      "-rw-r--r--   1 ubuntu supergroup     23.2 M 2023-01-23 07:11 /user/ubuntu/warehouse/airline_demo.db/full_airline/part-00009-252ee949-904f-476f-bced-994be24cf212-c000.snappy.parquet\n",
      "-rw-r--r--   1 ubuntu supergroup     23.6 M 2023-01-23 07:11 /user/ubuntu/warehouse/airline_demo.db/full_airline/part-00010-252ee949-904f-476f-bced-994be24cf212-c000.snappy.parquet\n",
      "-rw-r--r--   1 ubuntu supergroup     23.5 M 2023-01-23 07:11 /user/ubuntu/warehouse/airline_demo.db/full_airline/part-00011-252ee949-904f-476f-bced-994be24cf212-c000.snappy.parquet\n",
      "-rw-r--r--   1 ubuntu supergroup     23.6 M 2023-01-23 07:12 /user/ubuntu/warehouse/airline_demo.db/full_airline/part-00012-252ee949-904f-476f-bced-994be24cf212-c000.snappy.parquet\n",
      "-rw-r--r--   1 ubuntu supergroup     23.6 M 2023-01-23 07:12 /user/ubuntu/warehouse/airline_demo.db/full_airline/part-00013-252ee949-904f-476f-bced-994be24cf212-c000.snappy.parquet\n",
      "-rw-r--r--   1 ubuntu supergroup     23.2 M 2023-01-23 07:12 /user/ubuntu/warehouse/airline_demo.db/full_airline/part-00014-252ee949-904f-476f-bced-994be24cf212-c000.snappy.parquet\n",
      "-rw-r--r--   1 ubuntu supergroup     19.8 M 2023-01-23 07:12 /user/ubuntu/warehouse/airline_demo.db/full_airline/part-00015-252ee949-904f-476f-bced-994be24cf212-c000.snappy.parquet\n",
      "-rw-r--r--   1 ubuntu supergroup     19.8 M 2023-01-23 07:12 /user/ubuntu/warehouse/airline_demo.db/full_airline/part-00016-252ee949-904f-476f-bced-994be24cf212-c000.snappy.parquet\n",
      "-rw-r--r--   1 ubuntu supergroup     19.9 M 2023-01-23 07:12 /user/ubuntu/warehouse/airline_demo.db/full_airline/part-00017-252ee949-904f-476f-bced-994be24cf212-c000.snappy.parquet\n",
      "-rw-r--r--   1 ubuntu supergroup     20.1 M 2023-01-23 07:12 /user/ubuntu/warehouse/airline_demo.db/full_airline/part-00018-252ee949-904f-476f-bced-994be24cf212-c000.snappy.parquet\n",
      "-rw-r--r--   1 ubuntu supergroup     19.9 M 2023-01-23 07:12 /user/ubuntu/warehouse/airline_demo.db/full_airline/part-00019-252ee949-904f-476f-bced-994be24cf212-c000.snappy.parquet\n",
      "-rw-r--r--   1 ubuntu supergroup     21.5 M 2023-01-23 07:12 /user/ubuntu/warehouse/airline_demo.db/full_airline/part-00020-252ee949-904f-476f-bced-994be24cf212-c000.snappy.parquet\n",
      "-rw-r--r--   1 ubuntu supergroup     21.0 M 2023-01-23 07:13 /user/ubuntu/warehouse/airline_demo.db/full_airline/part-00021-252ee949-904f-476f-bced-994be24cf212-c000.snappy.parquet\n",
      "-rw-r--r--   1 ubuntu supergroup     21.3 M 2023-01-23 07:13 /user/ubuntu/warehouse/airline_demo.db/full_airline/part-00022-252ee949-904f-476f-bced-994be24cf212-c000.snappy.parquet\n",
      "-rw-r--r--   1 ubuntu supergroup     15.5 M 2023-01-23 07:13 /user/ubuntu/warehouse/airline_demo.db/full_airline/part-00023-252ee949-904f-476f-bced-994be24cf212-c000.snappy.parquet\n",
      "-rw-r--r--   1 ubuntu supergroup     13.1 M 2023-01-23 07:13 /user/ubuntu/warehouse/airline_demo.db/full_airline/part-00024-252ee949-904f-476f-bced-994be24cf212-c000.snappy.parquet\n"
     ]
    }
   ],
   "source": [
    "%%sh \n",
    "\n",
    "hdfs dfs -ls -h /user/ubuntu/warehouse/airline_demo.db/full_airline/"
   ]
  },
  {
   "cell_type": "code",
   "execution_count": null,
   "id": "4ea74817-3471-447e-8e1b-0ed90b03c838",
   "metadata": {},
   "outputs": [],
   "source": []
  },
  {
   "cell_type": "code",
   "execution_count": null,
   "id": "5cc57e05-6c92-457a-b2c0-e8680ca12335",
   "metadata": {},
   "outputs": [],
   "source": []
  },
  {
   "cell_type": "code",
   "execution_count": null,
   "id": "c81a631b-0c85-4e63-b9d6-1d76bff3dc40",
   "metadata": {},
   "outputs": [],
   "source": []
  }
 ],
 "metadata": {
  "kernelspec": {
   "display_name": "Pyspark 3",
   "language": "python",
   "name": "pyspark3"
  },
  "language_info": {
   "codemirror_mode": {
    "name": "ipython",
    "version": 3
   },
   "file_extension": ".py",
   "mimetype": "text/x-python",
   "name": "python",
   "nbconvert_exporter": "python",
   "pygments_lexer": "ipython3",
   "version": "3.10.6"
  }
 },
 "nbformat": 4,
 "nbformat_minor": 5
}
